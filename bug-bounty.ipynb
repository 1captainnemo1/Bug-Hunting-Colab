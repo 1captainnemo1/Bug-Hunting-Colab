#@markdown <h3>⬅️ Click Here to Install Tools And Create SSH Tunnel</h3>
#@markdown <br><center><img src='https://mms.businesswire.com/media/20190829005410/en/658229/23/hackerone_logo_black.jpg' height="200" alt="ssh"/></center>
#@markdown <center><h3>Bug Hunting VPS</h3></center><br>
import os
import random
import string
import urllib.request
from IPython.display import HTML, clear_output
import time

#####################################
USE_FREE_TOKEN = False  # @param {type:"boolean"}
CREATE_VNC = False # @param {type:"boolean"}
CREATE_SSH = True # @param {type:"boolean"}Are you invoking ngrok asking for a TCP tunnel? (ngrok -proto=tcp 5901)
TOKEN = "1Xc7z0uHxDoI9Ah06EQKgH61zoP_6WTPXDGvjFmcp2o7gNmqa"  # @param {type:"string"}
HOME = os.path.expanduser("~")
runW = get_ipython()

if not os.path.exists(f"{HOME}/.ipython/ttmg.py"):
    hCode = "https://raw.githubusercontent.com/hackingguy/Bug-Bounty-Colab/master/ttmg.py"
    urllib.request.urlretrieve(hCode, f"{HOME}/.ipython/ttmg.py")

from ttmg import (
    runSh,
    loadingAn,
    ngrok,
    displayUrl,
    findProcess,
    CWD,
    textAn,
)


runW.system_raw('sudo apt-get update && apt-get -y upgrade')
runW.system_raw('add-apt-repository -y ppa:apt-fast/stable < /dev/null')
runW.system_raw('echo debconf apt-fast/maxdownloads string 16 | debconf-set-selections')
runW.system_raw('echo debconf apt-fast/dlflag boolean true | debconf-set-selections')
runW.system_raw('echo debconf apt-fast/aptmanager string apt-get | debconf-set-selections')
runW.system_raw('apt install -y apt-fast')

loadingAn()

# password generate
try:
  print(f"Found old password! : {password}")
except:
  password = ''.join(random.choice(string.ascii_letters + string.digits) for i in range(20))

#Set root password
if CREATE_SSH  and os.path.exists('/var/run/sshd') == False:
  #Setup sshdsshd9
  runSh('apt install -qq -o=Dpkg::Use-Pty=0 openssh-server pwgen')
  runW.system_raw("echo root:$password | chpasswd")
  os.makedirs("/var/run/sshd", exist_ok=True)
  runW.system_raw('echo "PermitRootLogin yes" >> /etc/ssh/sshd_config')
  runW.system_raw('echo "PasswordAuthentication yes" >> /etc/ssh/sshd_config')
  runW.system_raw('echo "LD_LIBRARY_PATH=/usr/lib64-nvidia" >> /root/.bashrc')
  runW.system_raw('echo "export LD_LIBRARY_PATH" >> /root/.bashrc')

  #Run sshd
  if not findProcess("/usr/sbin/sshd", command="-D"):
    runSh('/usr/sbin/sshd -D &', shell=True)

if CREATE_VNC:
  clear_output()

  textAn("Wait for almost 2 minutes. It's doing for VNC ready...")
  os.makedirs(f'{HOME}/.vnc', exist_ok=True)
  runW.system_raw('add-apt-repository -y ppa:apt-fast/stable < /dev/null')
  runW.system_raw('echo debconf apt-fast/maxdownloads string 16 | debconf-set-selections')
  runW.system_raw('echo debconf apt-fast/dlflag boolean true | debconf-set-selections')
  runW.system_raw('echo debconf apt-fast/aptmanager string apt-get | debconf-set-selections')
  runW.system_raw('apt install -y apt-fast')
  runW.system_raw('apt-fast install -y xfce4 xfce4-goodies firefox tightvncserver')
  runW.system_raw(rf'echo "{password}" | vncpasswd -f > ~/.vnc/passwd')
  data = """
#!/bin/bash
xrdb $HOME/.Xresources
startxfce4 &
"""
  with open(f'{HOME}/.vnc/xstartup', 'w+') as wNow:
    wNow.write(data)
  os.chmod(f'{HOME}/.vnc/xstartup', 0o755)
  os.chmod(f'{HOME}/.vnc/passwd', 0o400)
  runSh('sudo vncserver &', shell=True)
  runSh(f'git clone https://github.com/novnc/noVNC.git {CWD}/noVNC')
  runSh("bash noVNC/utils/launch.sh --listen 6080 --vnc localhost:5901 &",
        shell=True)
  #end = time.time()
# START_SERVER
# Ngrok region 'us','eu','ap','au','sa','jp','in'
textAn("Installing All Tools, This May Take 10 Minutes......")

runW.system_raw('sudo apt-get install -y apt-transport-https')
runW.system_raw('sudo apt-fast install -y libcurl4-openssl-dev')
runW.system_raw('sudo apt-fast install -y libssl-dev')
runW.system_raw('sudo apt-fast install -y jq')
runW.system_raw('sudo apt-fast install -y ruby-full')
runW.system_raw('sudo apt-fast install -y libcurl4-openssl-dev libxml2 libxml2-dev libxslt1-dev ruby-dev build-essential libgmp-dev zlib1g-dev')
runW.system_raw('sudo apt-fast install -y build-essential libssl-dev libffi-dev python-dev')
runW.system_raw('sudo apt-fast install -y python-setuptools')
runW.system_raw('sudo apt-fast install -y libldns-dev')
runW.system_raw('sudo apt-fast install -y python3-pip')
runW.system_raw('sudo apt-fast install -y python-dnspython')
runW.system_raw('sudo apt-fast install -y git wget')
runW.system_raw('sudo apt-fast install -y xargs')
runW.system_raw('sudo apt-fast install -y npm')
runW.system_raw('sudo apt-fast install -y nmap phantomjs ')
runW.system_raw('sudo apt-fast install -y gem')
runW.system_raw('sudo apt-fast install -y perl ')
runW.system_raw('sudo apt-fast install -y parallel')
runW.system_raw('wget -q -O - https://raw.githubusercontent.com/canha/golang-tools-install-script/master/goinstall.sh | bash')
runW.system_raw('export PATH=$PATH:/usr/local/go/bin && export GOROOT=/usr/local/go && export GOPATH=$HOME/go && ')
!printf "if [ -f ~/.bashrc ]; then\n . ~/.bashrc\nfi\n" >> .bash_profile
!source /root/.bashrc
runW.system_raw('pip3 install jsbeautifier && sar 1 1 >/dev/null')
runW.system_raw('curl https://raw.githubusercontent.com/unethicalnoob/aliases/master/bashprofile > ~/.bash_profile')
runW.system_raw('sar 1 1 >/dev/null ')
runW.system_raw('sar 1 1 >/dev/null && sudo pip3 install py-altdns')
runW.system_raw('sudo apt-fast install -y nmap')
runW.system_raw('git clone https://github.com/jobertabma/virtual-host-discovery.git ~/tools/vhd')
runW.system_raw('sudo apt-fast install sqlmap')
runW.system_raw('git clone https://github.com/guelfoweb/knock.git ~/tools/knockpy')
runW.system_raw('cd ~/tools/knockpy && sudo python setup.py install')
runW.system_raw('/root/.go/bin/go get -u github.com/harleo/knockknock')
runW.system_raw('git clone https://github.com/yassineaboukir/asnlookup.git ~/tools/asnlookup')
runW.system_raw('cd ~/tools/asnlookup && sudo pip3 install -r requirements.txt')
runW.system_raw('/root/.go/bin/go get -u github.com/j3ssie/metabigor&& sar 1 1 >/dev/null')
runW.system_raw('sudo apt-fast install gobuster')
runW.system_raw('/root/.go/bin/go get -u github.com/ffuf/ffuf')
runW.system_raw('git clone https://github.com/maurosoria/dirsearch.git ~/tools/dirsearch')
runW.system_raw('sudo apt-fast install wfuzz&& sar 1 1 >/dev/null')
runW.system_raw('/root/.go/bin/go get -u github.com/michenriksen/aquatone ')
runW.system_raw('git clone https://github.com/nsonaniya2010/SubDomainizer.git ~/tools/SubDomainizer')
runW.system_raw('cd ~/tools/SubDomainizer && chmod +x SubDomainizer.py && sudo pip3 install -r requirements.txt ')
runW.system_raw('git clone https://github.com/eldraco/domain_analyzer.git ~/tools/domain_analyzer')
runW.system_raw('git clone https://github.com/blechschmidt/massdns.git ~/tools/massdns')
runW.system_raw('cd ~/tools/massdns && make')
runW.system_raw('git clone https://github.com/cihanmehmet/sub.sh.git ~/tools/subsh')
runW.system_raw('cd ~/tools/subsh && chmod +x sub.sh')
runW.system_raw('/root/.go/bin/go get -u github.com/haccer/subjack')
runW.system_raw('git clone https://github.com/aboul3la/Sublist3r.git ~/tools/Sublist3r')
runW.system_raw('cd ~/tools/Sublist3r && sudo pip3 install -r requirements.txt')
runW.system_raw('/root/.go/bin/go get -u github.com/Ice3man543/SubOver && sudo pip3 install spyse.py&& sar 1 1 >/dev/null')
runW.system_raw('git clone https://github.com/s0md3v/Corsy.git ~/tools/corsy && sudo pip3 install -r requirements.txt')
runW.system_raw('git clone https://github.com/chenjj/CORScanner.git ~/tools/corscanner && sudo pip3 install -r requirements.txt')
runW.system_raw('/root/.go/bin/go get -u github.com/Tanmay-N/CORS-Scanner&& sar 1 1 >/dev/null')
runW.system_raw('git clone https://github.com/hahwul/dalfox ~/tools/dalfox')
runW.system_raw('cd ~/tools/dalfox/ && go build dalfox.go && sudo cp dalfox /usr/bin/')
runW.system_raw('git clone https://github.com/s0md3v/XSStrike.git ~/tools/XSStrike ')
runW.system_raw('cd ~/tools/XSStrike&& sudo pip3 install -r requirements.txt')
runW.system_raw('export DEBIAN_FRONTEND=noninteractive')
runW.system_raw('sudo gem install XSpear')
runW.system_raw('sudo gem install colorize')
runW.system_raw('sudo gem install selenium-webdriver')
runW.system_raw('sudo gem install terminal-table')
runW.system_raw('sudo gem install progress_bar')
runW.system_raw('git clone https://github.com/M4cs/traxss.git ~/tools/traxss')
runW.system_raw('cd ~/tools/traxss && sudo pip3 install -r requirements.txt && sar 1 1 >/dev/null && sudo pip3 install awscli --upgrade --user')
runW.system_raw('git clone https://github.com/gwen001/s3-buckets-finder.git ~/tools/s3-buckets-finder')
runW.system_raw('git clone https://github.com/nahamsec/lazys3.git ~/tools/lazys3')
runW.system_raw('git clone https://github.com/securing/DumpsterDiver.git ~/tools/DumpsterDiver')
runW.system_raw('cd ~/tools/DumpsterDiver && chmod +x DumpsterDiver.py && sudo pip3 install -r requirements.txt')
runW.system_raw('git clone https://github.com/sa7mon/S3Scanner.git ~/tools/S3Scanner ')
runW.system_raw('cd ~/tools/S3Scanner && sudo pip3 install -r requirements.txt')
runW.system_raw('git clone https://github.com/christophetd/CloudFlair.git ~/tools/CloudFlair')
runW.system_raw('cd ~/tools/CloudFlair && chmod +x cloudflair.py && sudo pip3 install -r requirements.txt')
runW.system_raw('git clone https://github.com/greycatz/CloudUnflare.git ~/tools/CloudUnflare')
runW.system_raw('git clone https://github.com/fellchase/flumberboozle ~/tools/flumberboozle')
runW.system_raw('git clone https://github.com/RhinoSecurityLabs/GCPBucketBrute.git ~/tools/GCPBucketBrute')
runW.system_raw('cd ~/tools/GCPBucketBrute && sudo python3 -m pip install -r requirements.txt && sar 1 1 >/dev/null')
runW.system_raw('git clone https://github.com/Dionach/CMSmap.git ~/tools/CMS/CMSmap')
runW.system_raw('cd ~/tools/CMS/CMSmap && sudo pip3 install .')
runW.system_raw('git clone https://github.com/jekyc/wig.git ~/tools/CMS/wig')
runW.system_raw('cd ~/tools/wig && sudo python3 setup.py install')
runW.system_raw('git clone https://github.com/Tuhinshubhra/CMSeeK.git ~/tools/CMS/CMSeek')
runW.system_raw('cd ~/tools/CMS/CMSeek && sudo python3 -m pip install -r requirements.txt')
runW.system_raw('git clone https://github.com/rezasp/joomscan.git ~/tools/CMS/Joomscan')
runW.system_raw('sudo gem install wpscan && sudo pip3 install droopescan')
runW.system_raw('git clone https://github.com/immunIT/drupwn.git ~/tools/CMS/drupwn')
runW.system_raw('cd ~/tools/CMS/drupwn && sudo python3 setup.py install')
runW.system_raw('git clone https://github.com/0ang3el/aem-hacker.git ~/tools/CMS/aem-hacker&& sar 1 1 >/dev/null')
runW.system_raw('git clone https://github.com/HightechSec/git-scanner ~/tools/GIT/git-scanner')
runW.system_raw('cd ~/tools/GIT/git-scanner && chmod +x gitscanner.sh')
runW.system_raw('git clone https://github.com/hisxo/gitGraber.git ~/tools/GIT/gitGraber')
runW.system_raw('cd ~/tools/GIT/gitGraber && chmod +x gitGraber.py && sudo pip3 install -r requirements.txt')
runW.system_raw('git clone https://github.com/tillson/git-hound.git ~/tools/GIT/git-hound')
runW.system_raw('cd ~/tools/GIT/git-hound && sudo go build main.go && mv main githound')
runW.system_raw('git clone https://github.com/gwen001/github-search.git ~/tools/GIT/github-search')
runW.system_raw('cd ~/tools/GIT/github-search  && sudo pip3 install -r  requirements3.txt&& sar 1 1 >/dev/null')
runW.system_raw('git clone https://github.com/1N3/Sn1per.git ~/tools/Frameworks/Sn1per')
runW.system_raw('git clone https://github.com/j3ssie/Osmedeus.git ~/tools/Frameworks/osmedeus')
runW.system_raw('git clone https://github.com/WhaleShark-Team/cobra.git ~/tools/Frameworks/Cobra')
runW.system_raw('git clone https://github.com/0xinfection/tidos-framework.git ~/tools/Frameworks/TIDoS-Framework')
runW.system_raw('cd ~/tools/Frameworks/TIDoS-Framework && chmod +x install')
runW.system_raw('git clone https://github.com/m4ll0k/WAScan.git ~/tools/Frameworks/WAScan')
runW.system_raw('git clone https://github.com/1N3/BlackWidow.git ~/tools/Frameworks/BlackWidow')
runW.system_raw('cd ~/tools/Frameworks/BlackWidow')
runW.system_raw('git clone --recursive https://github.com/screetsec/Sudomy.git ~/tools/Frameworks/Sudomy')
runW.system_raw('cd ~/tools/Frameworks/Sudomy && sudo pip3 install -r requirements.txt')
runW.system_raw('sudo npm i -g wappalyzer')
runW.system_raw('cd ~/tools/Frameworks && wget https://github.com/Edu4rdSHL/findomain/releases/latest/download/findomain-linux && sudo chmod +x findomain-linux && sudo cp findomain-linux /usr/bin/findomain && sar 1 1 >/dev/null && git clone https://github.com/swisskyrepo/SSRFmap ~/tools/SSRFMap')
runW.system_raw('cd ~/tools/SSRFmap/ && sudo pip3 install -r requirements.txt && sudo pip3 install xsrfprobe')
runW.system_raw('git clone https://github.com/nahamsec/JSParser.git ~/tools/JSParser')
runW.system_raw('cd ~/tools/JSParser && sudo python3 setup.py install')
runW.system_raw('/root/.go/bin/go get -u github.com/lc/subjs')
runW.system_raw('sudo npm install broken-link-checker -g && sudo pip3 install pwncat')
runW.system_raw('git clone https://github.com/s0md3v/Photon.git ~/tools/Photon')
runW.system_raw('cd ~/tools/Photon && sudo pip3 install -r requirements.txt')
runW.system_raw('git clone https://github.com/hakluke/hakrawler.git ~/tools/hakrawler')
runW.system_raw('cd ~/tools/hakrawler && go build main.go && mv main hakrawler && sudo mv hakrawler /usr/bin/')
runW.system_raw('git clone https://github.com/EnableSecurity/wafw00f.git ~/tools/waff00f')
runW.system_raw('cd ~/tools/wafw00f && sudo python3 setup.py install')
runW.system_raw('git clone https://github.com/devanshbatham/ParamSpider ~/tools/ParamSpider')
runW.system_raw('cd ~/tools/ParamSpider && sudo pip3 install -r requirements.txt')
runW.system_raw('git clone https://github.com/joaomatosf/jexboss.git ~/tools/jexboss')
runW.system_raw('cd ~/tools/jexboss && sudo pip3 install -r requires.txt')
runW.system_raw('git clone https://github.com/1N3/Goohak.git ~/tools/Goohak')
runW.system_raw('cd ~/tools/Goohak && chmod +x goohak && sudo pip3 install webtech')
runW.system_raw('/root/.go/bin/go get -u github.com/lc/gau')
runW.system_raw('git clone https://github.com/GerbenJavado/LinkFinder.git ~/tools/LinkFinder')
runW.system_raw('cd ~/tools/LinkFinder && sudo pip3 install -r requirements.txt && sudo python3 setup.py install')
runW.system_raw('git clone https://github.com/m4ll0k/SecretFinder.git ~/tools/SecretFinder')
runW.system_raw('cd ~/tools/SecretFinder && chmod +x secretfinder && sudo pip3 install -r requirements.txt&& sar 1 1 >/dev/null')
runW.system_raw('/root/.go/bin/go get -u github.com/projectdiscovery/naabu/cmd/naabu')
runW.system_raw('/root/.go/bin/go get -u github.com/projectdiscovery/dnsprobe')
runW.system_raw('/root/.go/bin/go get -u github.com/projectdiscovery/nuclei/cmd/nuclei')
runW.system_raw('/root/.go/bin/go get -u github.com/projectdiscovery/subfinder/cmd/subfinder')
runW.system_raw('/root/.go/bin/go get -u github.com/projectdiscovery/httpx/cmd/httpx')
runW.system_raw('/root/.go/bin/go get -u github.com/projectdiscovery/shuffledns/cmd/shuffledns')
runW.system_raw('/root/.go/bin/go get -u github.com/projectdiscovery/chaos-client/cmd/chaos&& sar 1 1 >/dev/null')
runW.system_raw('git clone https://github.com/assetnote/commonspeak2-wordlists ~/tools/Wordlists/commonspeak2-wordlists')
runW.system_raw('git clone https://github.com/fuzzdb-project/fuzzdb ~/tools/Wordlists/fuzzdb')
runW.system_raw('git clone https://github.com/1N3/IntruderPayloads ~/tools/Wordlists/IntruderPayloads')
runW.system_raw('git clone https://github.com/swisskyrepo/PayloadsAllTheThings ~/tools/Wordlists/PayloadsAllTheThings')
runW.system_raw('git clone https://github.com/danielmiessler/SecLists ~/tools/Wordlists/SecLists')
runW.system_raw('cd ~/tools/Wordlists/SecLists/Discovery/DNS/ && cat dns-Jhaddix.txt | head -n -14 > clean-jhaddix-dns.txt && sar 1 1 >/dev/null')
runW.system_raw('/root/.go/bin/go get -u github.com/tomnomnom/meg')
runW.system_raw('/root/.go/bin/go get -u github.com/tomnomnom/assetfinder')
runW.system_raw('/root/.go/bin/go get -u github.com/tomnomnom/waybackurls')
runW.system_raw('/root/.go/bin/go get -u github.com/tomnomnom/gf')
runW.system_raw('/root/.go/bin/go get -u github.com/tomnomnom/httprobe')
runW.system_raw('/root/.go/bin/go get -u github.com/tomnomnom/hacks/concurl')
runW.system_raw('/root/.go/bin/go get -u github.com/tomnomnom/unfurl')
runW.system_raw('/root/.go/bin/go get -u github.com/tomnomnom/hacks/anti-burl')
runW.system_raw('/root/.go/bin/go get github.com/tomnomnom/hacks/filter-resolved')
runW.system_raw('/root/.go/bin/go get -u github.com/tomnomnom/fff')
runW.system_raw('/root/.go/bin/go get -u github.com/tomnomnom/qsreplace&& sar 1 1 >/dev/null')
runW.system_raw('git clone https://github.com/s0md3v/Arjun.git ~/tools/Arjun')
runW.system_raw('/root/.go/bin/go get -u github.com/dwisiswant0/cf-check')
runW.system_raw('/root/.go/bin/go get -u github.com/1ndianl33t/urlprobe')
runW.system_raw('sudo apt-fast install amass')
runW.system_raw('git clone https://github.com/SecureAuthCorp/impacket.git ~/tools/impacket')
runW.system_raw('cd ~/tools/impacket && sudo pip3 install -r requirements.txt  && sudo pip3 install . && sar 1 1 >/dev/null')
runW.system_raw('source /root/.bashrc')
clear_output()
Server = ngrok(TOKEN, USE_FREE_TOKEN, [['ssh', 22, 'tcp'], 
               ['vnc', 6080, 'http']], 'in', 
               [f"{HOME}/.ngrok2/sshVnc.yml", 4045])
data = Server.start('ssh', displayB=False)
# output
Host,port = data['url'][7:].split(':')
data2 = Server.start('vnc', displayB=False)
clear_output()
if CREATE_VNC:
  displayUrl(data2, pNamU='noVnc : ',
            EcUrl=f'/vnc.html?autoconnect=true&password={password}')
if CREATE_SSH:
  display(HTML("""<style>@import url('https://fonts.googleapis.com/css?family=Source+Code+Pro:200,900');  :root {   --text-color: hsla(210, 50%, 85%, 1);   --shadow-color: hsla(210, 40%, 52%, .4);   --btn-color: hsl(210, 80%, 42%);   --bg-color: #141218; }  * {   box-sizing: border-box; } button { position:relative; padding: 10px 20px;     border: none;   background: none;      font-family: "Source Code Pro";   font-weight: 900;font-size: 20px;     color: var(--text-color);      background-color: var(--btn-color);   box-shadow: var(--shadow-color) 2px 2px 22px;   border-radius: 4px;    z-index: 0;overflow: hidden; -webkit-user-select: text;-moz-user-select: text;-ms-user-select: text;user-select: text;}  button:focus {   outline-color: transparent;   box-shadow: var(--btn-color) 2px 2px 22px; }  .right::after, button::after {   content: var(--content);   display: block;   position: absolute;   white-space: nowrap;   padding: 40px 40px;   pointer-events:none; }  button::after{   font-weight: 200;   top: -30px;   left: -20px; }   .right, .left {   position: absolute;   width: 100%;   height: 100%;   top: 0; } .right {   left: 66%; } .left {   right: 66%; } .right::after {   top: -30px;   left: calc(-66% - 20px);      background-color: var(--bg-color);   color:transparent;   transition: transform .4s ease-out;   transform: translate(0, -90%) rotate(0deg) }  button:hover .right::after {   transform: translate(0, -47%) rotate(0deg) }  button .right:hover::after {   transform: translate(0, -50%) rotate(-7deg) }  button .left:hover ~ .right::after {   transform: translate(0, -50%) rotate(7deg) }  /* bubbles */ button::before {   content: '';   pointer-events: none;   opacity: .6;   background:     radial-gradient(circle at 20% 35%,  transparent 0,  transparent 2px, var(--text-color) 3px, var(--text-color) 4px, transparent 4px),     radial-gradient(circle at 75% 44%, transparent 0,  transparent 2px, var(--text-color) 3px, var(--text-color) 4px, transparent 4px),     radial-gradient(circle at 46% 52%, transparent 0, transparent 4px, var(--text-color) 5px, var(--text-color) 6px, transparent 6px);    width: 100%;   height: 300%;   top: 0;   left: 0;   position: absolute;   animation: bubbles 5s linear infinite both; }  @keyframes bubbles {   from {     transform: translate();   }   to {     transform: translate(0, -66.666%);   } }.zui-table {    border: solid 1px #DDEEEE;    border-collapse: collapse;    border-spacing: 0;    font: normal 13px;}.zui-table thead th {    background-color: #DDEFEF;    border: solid 1px #DDEEEE;    color: #0000009e;    padding: 10px;    text-align: left;}.zui-table tbody td {border: solid 1px #effff97a;color: #ffffffd1;    padding: 10px;}</style><center><button><table class="zui-table blueBG"><p>Ssh config<p><thead>        <tr>        <th>Host</th>            <th>Port</th>        <th>Password</th> </tr>    </thead>    <tbody>        <tr><td>"""+Host+"""</td><td>"""+port+"""</td><td>"""+password+"""</td></tr></tbody></table><center><br><table class="zui-table blueBG"><thead>        <tr>        <th>Simple ssh command</th></tr>    </thead>    <tbody>        <tr><td>ssh root@"""+Host+""" -p """+port+"""</td></tr></tbody></table></center><a target="_blank" style="text-decoration: none;color: hsla(210, 50%, 85%, 1);font-size: 10px;" href="http://bit.ly/2RDhV0c">NB. How to setup this's config. [Click ME]</a></button><center>"""))
